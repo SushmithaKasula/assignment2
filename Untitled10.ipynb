{
  "nbformat": 4,
  "nbformat_minor": 0,
  "metadata": {
    "colab": {
      "provenance": [],
      "gpuType": "T4"
    },
    "kernelspec": {
      "name": "python3",
      "display_name": "Python 3"
    },
    "language_info": {
      "name": "python"
    },
    "accelerator": "GPU"
  },
  "cells": [
    {
      "cell_type": "code",
      "source": [
        "from google.colab import drive\n",
        "drive.mount('/content/drive')"
      ],
      "metadata": {
        "id": "u49Yf6C2CP_h"
      },
      "execution_count": null,
      "outputs": []
    },
    {
      "cell_type": "code",
      "source": [
        "cd drive/MyDrive/NMIMS/yolo"
      ],
      "metadata": {
        "id": "b6tm4enXCSfP"
      },
      "execution_count": null,
      "outputs": []
    },
    {
      "cell_type": "code",
      "source": [
        "ls"
      ],
      "metadata": {
        "id": "x6jY70xtCXO3",
        "colab": {
          "base_uri": "https://localhost:8080/"
        },
        "outputId": "a569765d-8eca-4f26-986e-5d3adebc2ee8"
      },
      "execution_count": null,
      "outputs": [
        {
          "output_type": "stream",
          "name": "stdout",
          "text": [
            "coco.names  image.jpg  yolov4.cfg  yolov4.weights\n"
          ]
        }
      ]
    },
    {
      "cell_type": "code",
      "source": [
        "import cv2\n",
        "import time\n",
        "import numpy as np\n",
        "from google.colab.patches import cv2_imshow\n",
        "\n",
        "confidence = 0.6\n",
        "Nms= 0.3\n",
        "class_names = []\n",
        "with open(\"coco.names\", \"r\") as f:\n",
        "  class_names = [cname.strip() for cname in f.readlines()]\n",
        "img = cv2.imread(\"image.jpg\")\n",
        "arc = cv2.dnn.readNet(\"yolov4.weights\",\"yolov4.cfg\")\n",
        "arc.setPreferableBackend(cv2.dnn.DNN_BACKEND_CUDA)\n",
        "arc.setPreferableTarget(cv2.dnn.DNN_TARGET_CUDA_FP16)\n",
        "model = cv2.dnn_DetectionModel(arc)\n",
        "model.setInputParams(size=(640,640), scale=1/255, swapRB=True)\n",
        "x =time.time()\n",
        "classes, scores, boxes = model.detect(img, confidence, Nms)\n",
        "y= time.time()\n",
        "fps=1/(y-x)\n",
        "for (classid, score, box) in zip(classes, scores, boxes):\n",
        "  if isinstance(classid, (list, np.ndarray)):\n",
        "    classid_value = classid[0]\n",
        "  else:\n",
        "    classid_value = classid\n",
        "# Check if score is a list or a scalar\n",
        "  if isinstance(score, (list, np.ndarray)):\n",
        "    score_value = score[0]\n",
        "  else:\n",
        "    score_value = score\n",
        "    label = \"%s : %.2f\" % (class_names[classid_value], score_value)\n",
        "    cv2.rectangle(img,box,color=(255, 200, 10),thickness=2)\n",
        "    cv2.putText(img, label, (box[0],box[1]-10),cv2.FONT_HERSHEY_SIMPLEX,0.6,(25,55,255),2)\n",
        "    cv2.putText(img, \"FPS:{0:.2f}\".format(fps),(20, 25), cv2.FONT_HERSHEY_PLAIN,fontScale=2,color=(255, 0, 0),thickness=2)\n",
        "cv2_imshow(img)"
      ],
      "metadata": {
        "id": "fvbF47bFDWOE"
      },
      "execution_count": null,
      "outputs": []
    },
    {
      "cell_type": "code",
      "source": [],
      "metadata": {
        "id": "vnvJacxrDYss"
      },
      "execution_count": null,
      "outputs": []
    }
  ]
}